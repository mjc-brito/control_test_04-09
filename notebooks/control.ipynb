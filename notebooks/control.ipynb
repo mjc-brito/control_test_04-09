{
 "cells": [
  {
   "cell_type": "code",
   "execution_count": null,
   "id": "e5cf2056",
   "metadata": {
    "vscode": {
     "languageId": "plaintext"
    }
   },
   "outputs": [],
   "source": [
    "import ipywidgets as widgets\n",
    "from IPython.display import display\n",
    "import requests, os\n",
    "\n",
    "API_URL = os.environ.get(\"DJANGO_API_URL\", \"http://localhost:8000/api/command/\")\n",
    "txt = widgets.Text(placeholder=\"Comando\")\n",
    "btn = widgets.Button(description=\"Enviar\")\n",
    "out = widgets.Output()\n",
    "\n",
    "def on_click(_):\n",
    "    with out:\n",
    "        out.clear_output()\n",
    "        try:\n",
    "            r = requests.post(API_URL, json={\"cmd\": txt.value}, timeout=5)\n",
    "            print(r.status_code, r.json())\n",
    "        except Exception as e:\n",
    "            print(\"Erro:\", e)\n",
    "\n",
    "btn.on_click(on_click)\n",
    "display(widgets.VBox([txt, btn, out]))\n"
   ]
  }
 ],
 "metadata": {
  "language_info": {
   "name": "python"
  }
 },
 "nbformat": 4,
 "nbformat_minor": 5
}
